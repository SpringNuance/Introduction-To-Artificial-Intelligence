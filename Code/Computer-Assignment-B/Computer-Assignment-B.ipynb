{
 "cells": [
  {
   "cell_type": "markdown",
   "metadata": {},
   "source": [
    "# Computer Assignment B\n",
    "\n",
    "## Text generation with OpenAI's GPT-2 model\n",
    "\n",
    "This week you explore the language model that you read about in the first exercise on this course [1]. GPT-2 is a large-scale unsupervised language model which generates coherent paragraphs of text, achieves state-of-the-art performance on many language modeling benchmarks, and performs rudimentary reading comprehension, machine translation, question answering, and summarization—all without task-specific training.\n",
    "\n",
    "Even if other models have been published after GPT-2, this model demonstrates the capabilities of a large transformer-based language model and shows off some interesting, fun, and even scary use-cases of the model. The model has 1.5 billion parameters, trained on a dataset of 8 million web pages, and it has been trained with a simple objective: predict the next word, given all of the previous words within some text. The diversity of the dataset causes this simple goal to contain naturally occurring demonstrations of many tasks across diverse domains.\n",
    "\n",
    "We try to explore a broad set of capabilities, including the ability to generate conditional synthetic text samples, where we prime the model with an input (i.e., how the text should start) and have it generate a lengthy continuation. The model adapts to the style and content of the conditioning text. This allows the user to generate (more or less) coherent continuations about a topic of their choosing. This implementation is based on [3] with slight modifications for educational purposes. It also goes without saying, we don't take any responsibilty of the content that the AI generates—don't be offended :) Also note that we use the smaller ~500 Mb trained model here for convenience.\n",
    "\n",
    "You might also be interested in this web page which implements some of these same things in a web UI: https://talktotransformer.com\n",
    "\n",
    "#### References\n",
    "\n",
    "[1] Alex Hern, \"New AI fake text generator may be too dangerous to release, say creators\". The Guardian, February 14, 2019.\n",
    "\n",
    "[2] OpenAI, \"Better language models and their implications\". Accessible at the [OpenAI Blog](https://openai.com/blog/better-language-models/), February 14, 2019 \n",
    "\n",
    "[3] Tae Hwan Jung (Jeff Jung), \"Simple text-generator with OpenAI GPT-2 Pytorch implementation\" [GitHub repository](https://github.com/graykode/gpt-2-Pytorch), which uses code and models from [this repo](https://github.com/huggingface/transformers)."
   ]
  },
  {
   "cell_type": "markdown",
   "metadata": {},
   "source": [
    "## Prepare the environment\n",
    "\n",
    "Clone the repo from https://github.com/graykode/gpt-2-Pytorch and install needed dependencies."
   ]
  },
  {
   "cell_type": "code",
   "execution_count": 5,
   "metadata": {},
   "outputs": [
    {
     "name": "stdout",
     "output_type": "stream",
     "text": [
      "fatal: destination path 'gpt-2-Pytorch' already exists and is not an empty directory.\n",
      "/notebooks/introai2021/Computer-Assignment-B/gpt-2-Pytorch\n",
      "Collecting regex==2017.4.5\n",
      "  Downloading regex-2017.04.05.tar.gz (601 kB)\n",
      "\u001b[K     |████████████████████████████████| 601 kB 6.4 MB/s eta 0:00:01\n",
      "\u001b[?25hBuilding wheels for collected packages: regex\n",
      "  Building wheel for regex (setup.py) ... \u001b[?25ldone\n",
      "\u001b[?25h  Created wheel for regex: filename=regex-2017.4.5-cp38-cp38-linux_x86_64.whl size=545125 sha256=042d633787be08256e51b0b15fbac78ec3cc1a98717c866bd159419bb06b7ea9\n",
      "  Stored in directory: /home/nguyenb5/.cache/pip/wheels/45/6d/d9/1c9b861321c9240122cb967b734a80545c9f465be4fcb16f19\n",
      "Successfully built regex\n",
      "Installing collected packages: regex\n",
      "Successfully installed regex-2017.4.5\n"
     ]
    }
   ],
   "source": [
    "!git clone https://github.com/graykode/gpt-2-Pytorch\n",
    "%cd gpt-2-Pytorch\n",
    "!pip install -r requirements.txt"
   ]
  },
  {
   "cell_type": "code",
   "execution_count": 6,
   "metadata": {},
   "outputs": [],
   "source": [
    "import os\n",
    "import sys\n",
    "import torch\n",
    "import random\n",
    "import argparse\n",
    "import numpy as np\n",
    "from GPT2.model import (GPT2LMHeadModel)\n",
    "from GPT2.utils import load_weight\n",
    "from GPT2.config import GPT2Config\n",
    "from GPT2.sample import sample_sequence\n",
    "from GPT2.encoder import get_encoder\n",
    "\n",
    "def text_generator(state_dict, text, nsamples=1, unconditional=False, batch_size=1, \n",
    "                   length=-1, temperature=0.7, top_k=40):\n",
    "\n",
    "    assert nsamples % batch_size == 0\n",
    "\n",
    "    seed = random.randint(0, 2147483647)\n",
    "    np.random.seed(seed)\n",
    "    torch.random.manual_seed(seed)\n",
    "    torch.cuda.manual_seed(seed)\n",
    "    device = torch.device(\"cuda\" if torch.cuda.is_available() else \"cpu\")\n",
    "\n",
    "    # Load Model\n",
    "    enc = get_encoder()\n",
    "    config = GPT2Config()\n",
    "    model = GPT2LMHeadModel(config)\n",
    "    model = load_weight(model, state_dict)\n",
    "    model.to(device)\n",
    "    model.eval()\n",
    "\n",
    "    if length == -1:\n",
    "        length = config.n_ctx // 2\n",
    "    elif length > config.n_ctx:\n",
    "        raise ValueError(\"Can't get samples longer than window size: %s\" % config.n_ctx)\n",
    "\n",
    "    print(text)\n",
    "    context_tokens = enc.encode(text)\n",
    "\n",
    "    generated = 0\n",
    "    for _ in range(nsamples // batch_size):\n",
    "        out = sample_sequence(\n",
    "            model=model, length=length,\n",
    "            context=context_tokens  if not unconditional else None,\n",
    "            start_token=enc.encoder['<|endoftext|>'] if unconditional else None,\n",
    "            batch_size=batch_size,\n",
    "            temperature=temperature, top_k=top_k, device=device\n",
    "        )\n",
    "        out = out[:, len(context_tokens):].tolist()\n",
    "        for i in range(batch_size):\n",
    "            generated += 1\n",
    "            text = enc.decode(out[i])\n",
    "\n",
    "            print(\"=\" * 40 + \" SAMPLE \" + str(generated) + \" \" + \"=\" * 40)\n",
    "            print(text)\n"
   ]
  },
  {
   "cell_type": "markdown",
   "metadata": {},
   "source": [
    "## Load pre-trained model\n",
    "\n",
    "The pre-trained model is available online and in case you want to use this notebook on your own laptop, you need to download the model (e.g., by `curl --output gpt2-pytorch_model.bin https://s3.amazonaws.com/models.huggingface.co/bert/gpt2-pytorch_model.bin`). However, here on jupyter.cs.aalto.fi we can all share the same model dump in order to save some diskspace and bandwidth."
   ]
  },
  {
   "cell_type": "code",
   "execution_count": 7,
   "metadata": {},
   "outputs": [
    {
     "name": "stderr",
     "output_type": "stream",
     "text": [
      "/opt/conda/lib/python3.8/site-packages/torch/cuda/__init__.py:52: UserWarning: CUDA initialization: Found no NVIDIA driver on your system. Please check that you have an NVIDIA GPU and installed a driver from http://www.nvidia.com/Download/index.aspx (Triggered internally at  /opt/conda/conda-bld/pytorch_1603729096996/work/c10/cuda/CUDAFunctions.cpp:100.)\n",
      "  return torch._C._cuda_getDeviceCount() > 0\n"
     ]
    }
   ],
   "source": [
    "state_dict = torch.load('/coursedata/gpt2-pytorch_model.bin', map_location='cpu' if not torch.cuda.is_available() else None)"
   ]
  },
  {
   "cell_type": "markdown",
   "metadata": {},
   "source": [
    "## Task 1: Unconditional samples\n",
    "\n",
    "We start of simple, with perhaps the least useful mode of the transformer. If you set the 'unconditional mode' to `True`, the generation will not be conditioned on given text. It just spits out some random text it comes up with."
   ]
  },
  {
   "cell_type": "code",
   "execution_count": 8,
   "metadata": {},
   "outputs": [
    {
     "name": "stderr",
     "output_type": "stream",
     "text": [
      "  0%|          | 2/512 [00:00<00:30, 16.86it/s]"
     ]
    },
    {
     "name": "stdout",
     "output_type": "stream",
     "text": [
      "\n"
     ]
    },
    {
     "name": "stderr",
     "output_type": "stream",
     "text": [
      "100%|██████████| 512/512 [00:20<00:00, 25.17it/s]"
     ]
    },
    {
     "name": "stdout",
     "output_type": "stream",
     "text": [
      "======================================== SAMPLE 1 ========================================\n",
      "<|endoftext|>(Reuters) - U.S. President Donald Trump has been criticised on Twitter for calling former New York Governor Michael Bloomberg a \"fat pig\" on Twitter after the Republican nominee's comments about women.\n",
      "\n",
      "FILE PHOTO: U.S. President Donald Trump speaks during a meeting with Chinese President Xi Jinping and President Xi Jinping of China at the White House in Washington, U.S., June 26, 2017. REUTERS/Kevin Lamarque/File Photo\n",
      "\n",
      "\"Mr. Bloomberg is a fat pig,\" Trump said on Twitter on Friday. \"He should be ashamed of himself.\"\n",
      "\n",
      "Bloomberg is a Republican, who last week took to Twitter to express outrage over his comments about women.\n",
      "\n",
      "A White House spokesman declined to comment on the tweet but did say, \"President Trump has met with Mr. Bloomberg and the Chinese president, Xi, at the White House in recent days to discuss our bilateral business relationship.\n",
      "\n",
      "\"The president has also met with Chinese President Xi Jinping at the White House and will continue his efforts to help improve relations with China in the near term,\" the spokesman said.\n",
      "\n",
      "Trump was criticized on Twitter for calling Bloomberg a \"fat pig\" on Tuesday.\n",
      "\n",
      "\"I am calling a fat pig a fat pig. His name is Michael Bloomberg, so is he a fat pig? It's very unfair. He's a fat pig,\" Trump tweeted on Tuesday.\n",
      "\n",
      "\"I am so glad @nytimes is so nice to me,\" he added.\n",
      "\n",
      "Bloomberg, a former New York governor and mayor of Queens, New York, has been a vocal critic of President Barack Obama's handling of the financial crisis.\n",
      "\n",
      "In a post on his Twitter account late on Tuesday, Bloomberg said \"I'm so glad @nytimes is so nice to me, so that I can send a message of comfort to all the men and women of this country.\"\n",
      "\n",
      "FILE PHOTO: President Donald Trump makes his way to the Oval Office of the White House in Washington, U.S., June 25, 2017. REUTERS/Kevin Lamarque/File Photo\n",
      "\n",
      "Trump, who has been criticized for his criticism of the media, has been a frequent target of attacks, including those made by his wife Melania Trump and by his presidential rivals, Ted Cruz of Texas and Marco Rubio of Florida.\n",
      "\n",
      "The attacks came after Trump made public comments about the Democratic presidential front-runner Hillary Clinton, saying the former secretary of state should be indicted for lying about her use of a private email server.\n",
      "\n",
      "Trump also\n"
     ]
    },
    {
     "name": "stderr",
     "output_type": "stream",
     "text": [
      "\n"
     ]
    }
   ],
   "source": [
    "text_generator(state_dict, '', unconditional=True)"
   ]
  },
  {
   "cell_type": "markdown",
   "metadata": {},
   "source": [
    "## Task 2: Generate completion of given text\n",
    "\n",
    "Here we now get down to business: The model is more interesting if you give it context for conditional text generation. The model picks up the style and context from the input and tries to continue the 'story', complete the list, or adapt to the style. The variable `text` takes the example input that the model adapts to (defined below)."
   ]
  },
  {
   "cell_type": "code",
   "execution_count": 19,
   "metadata": {},
   "outputs": [
    {
     "name": "stderr",
     "output_type": "stream",
     "text": [
      "  0%|          | 1/512 [00:00<01:10,  7.22it/s]"
     ]
    },
    {
     "name": "stdout",
     "output_type": "stream",
     "text": [
      "There once lived a great king. He has become the hero of his people\n"
     ]
    },
    {
     "name": "stderr",
     "output_type": "stream",
     "text": [
      "100%|██████████| 512/512 [00:21<00:00, 23.97it/s]"
     ]
    },
    {
     "name": "stdout",
     "output_type": "stream",
     "text": [
      "======================================== SAMPLE 1 ========================================\n",
      ".\"\n",
      "\n",
      "In the course of his reign, he has lived a life of service to the people, of being the king of the army, and of doing the right things. He is the patron saint of kings. His presence on the throne is a symbol of the power of God. King Solomon, the son of Solomon, was also a great king.\n",
      "\n",
      "In this context, the king of the world is the patron saint of kings. That is to say, she is the patron saint of kings.\n",
      "\n",
      "This is the position the kingship of the world has taken over the world, which is to say, the place of kingship of the world.\n",
      "\n",
      "It is the position the world has taken over the world, which is to say, the place of kingship of the world.\n",
      "\n",
      "Since the beginning of time, the world has been dominated by kings.\n",
      "\n",
      "Because of this, the world has been dominated by kings.\n",
      "\n",
      "The world has been dominated by kings.\n",
      "\n",
      "The kingship of the world has been given to King Solomon. He was the patron saint of kings.\n",
      "\n",
      "He has been the patron saint of kings.\n",
      "\n",
      "He has been the patron saint of kings.\n",
      "\n",
      "He has been the patron saint of kings.\n",
      "\n",
      "The world has been dominated by kings.\n",
      "\n",
      "In the past time, the kingship of the world has been given to King Solomon. He was the patron saint of kings.\n",
      "\n",
      "He has been the patron saint of kings.\n",
      "\n",
      "He has been the patron saint of kings.\n",
      "\n",
      "He has been the patron saint of kings.\n",
      "\n",
      "The world has been dominated by kings.\n",
      "\n",
      "In the past time, the kingship of the world has been given to King Solomon. He was the patron saint of kings.\n",
      "\n",
      "He has been the patron saint of kings.\n",
      "\n",
      "He has been the patron saint of kings.\n",
      "\n",
      "The world has been dominated by kings.\n",
      "\n",
      "In the past time, the kingship of the world has been given to King Solomon. He was the patron saint of kings.\n",
      "\n",
      "He has been the patron saint of kings.\n",
      "\n",
      "He has been the patron saint of kings.\n",
      "\n",
      "The world has been dominated by kings.\n",
      "\n",
      "In the past time, the kingship of the world has been given to King Solomon. He was the patron saint of kings.\n",
      "\n",
      "He has been the patron saint of kings.\n",
      "\n",
      "He has been the patron saint of kings.\n",
      "\n",
      "\n"
     ]
    },
    {
     "name": "stderr",
     "output_type": "stream",
     "text": [
      "\n"
     ]
    }
   ],
   "source": [
    "text = \"There once lived a great king. He has become the hero of his people\"\n",
    "text_generator(state_dict, text)"
   ]
  },
  {
   "cell_type": "markdown",
   "metadata": {},
   "source": [
    "## Task 3: Get more completion samples\n",
    "\n",
    "Modify parameter `nsamples` to set the number of generated samples.  The variable `text` holds the example input you have in Task 2. Feel free to change it when you explore."
   ]
  },
  {
   "cell_type": "code",
   "execution_count": 10,
   "metadata": {},
   "outputs": [
    {
     "name": "stderr",
     "output_type": "stream",
     "text": [
      "  0%|          | 1/512 [00:00<01:30,  5.65it/s]"
     ]
    },
    {
     "name": "stdout",
     "output_type": "stream",
     "text": [
      "Through action, a man becomes a hero. By death, a hero will become a legend. Through time, a legend became a myth. And by listening to the myth, a man takes action\n"
     ]
    },
    {
     "name": "stderr",
     "output_type": "stream",
     "text": [
      "100%|██████████| 512/512 [00:21<00:00, 24.13it/s]\n",
      "  0%|          | 1/512 [00:00<01:19,  6.45it/s]"
     ]
    },
    {
     "name": "stdout",
     "output_type": "stream",
     "text": [
      "======================================== SAMPLE 1 ========================================\n",
      ". By being a hero, a man becomes a legend. Through death, a hero will become a legend. Through time, a legend became a myth. And by listening to the myth, a man takes action. By being a hero, a man becomes a legend. Through time, a legend became a myth. And by listening to the myth, a man takes action. By being a hero, a man becomes a legend. Through time, a legend became a myth. And by listening to the myth, a man takes action. By being a hero, a man becomes a legend. Through time, a legend became a myth. And by listening to the myth, a man takes action. By being a hero, a man becomes a legend. Through time, a legend became a myth. And by listening to the myth, a man takes action. By being a hero, a man becomes a legend. Through time, a legend became a myth. And by listening to the myth, a man takes action. By being a hero, a man becomes a legend. Through time, a legend became a myth. And by listening to the myth, a man takes action. By being a hero, a man becomes a legend. Through time, a legend became a myth. And by listening to the myth, a man takes action. By being a hero, a man becomes a legend. Through time, a legend became a myth. And by listening to the myth, a man takes action. By being a hero, a man becomes a legend. Through time, a legend became a myth. And by listening to the myth, a man takes action. By being a hero, a man becomes a legend. Through time, a legend became a myth. And by listening to the myth, a man takes action. By being a hero, a man becomes a legend. Through time, a legend became a myth. And by listening to the myth, a man takes action. By being a hero, a man becomes a legend. Through time, a legend became a myth. And by listening to the myth, a man takes action. By being a hero, a man becomes a legend. Through time, a legend became a myth. And by listening to the myth, a man takes action. By being a hero, a man becomes a legend. Through time, a legend became a myth. And by listening to the myth, a man takes action. By being a hero, a man becomes a legend. Through time, a legend became a myth. And\n"
     ]
    },
    {
     "name": "stderr",
     "output_type": "stream",
     "text": [
      "100%|██████████| 512/512 [00:20<00:00, 24.40it/s]\n",
      "  0%|          | 1/512 [00:00<01:09,  7.34it/s]"
     ]
    },
    {
     "name": "stdout",
     "output_type": "stream",
     "text": [
      "======================================== SAMPLE 2 ========================================\n",
      ". By death, a hero is a legend. Through life, a hero is a myth. Through death, a hero is a myth. Through death, a hero is a myth.\"\n",
      "\n",
      "In this short speech, the speaker explains why he believes it's important to have a hero in the first place. He says: \"A hero has a unique place in our lives. When you meet a hero, the moment you meet him is something that will define you and your own life and the lives of others. It's a moment for you to show your support and show your love for the person you love most. It's also a moment to be proud of yourself and your abilities and all the things that you've done, and that's what makes the world a better place.\n",
      "\n",
      "\"This is all for one. A hero has not just been born. He has been given to us, to our families, to our friends, to all people. And I want to show you that. The hero, with his many virtues, has been given to us, for us to be honored as individuals. To be the face of our country and to be honored as a nation. This is all for one.\"\n",
      "\n",
      "In a statement last week, Trump made clear he's not taking any personal action to protect the press, but rather to protect the lives of the American people.\n",
      "\n",
      "\"I do not take any personal action to protect the lives of the American people. No, I do not take any personal action to protect the lives of the American people. It is for me to do so. I will never take personal action to protect the lives of the American people. I will never take any personal action to protect the lives of the American people. I will never take any personal action to protect the lives of the American people,\" Trump said. \"But I have no other choice. I will defend the American people. I will defend the American people.\"\n",
      "\n",
      "He continued: \"And I'm going to defend the American people, and I'm going to defend the American people. And I'm going to defend the American people, and I'm going to defend the American people. And I will defend the American people. And I will defend the American people. And I am going to defend the American people. And I will defend the American people. And I'm going to defend the American people. And I'm going to defend the American people.\"\n",
      "\n",
      "Trump's comments come on a day that saw the release of a statement by\n"
     ]
    },
    {
     "name": "stderr",
     "output_type": "stream",
     "text": [
      "100%|██████████| 512/512 [00:21<00:00, 24.02it/s]"
     ]
    },
    {
     "name": "stdout",
     "output_type": "stream",
     "text": [
      "======================================== SAMPLE 3 ========================================\n",
      ". By death, a hero will have something to say about the world. By life, a legend will become a legend. Through your own actions, your own words, your own thoughts, your own thoughts will rise up. By death, a hero will have something to say about the world. By your actions, a friend will rise up. By your own words, a friend will speak. By dying, a hero will die. By the end of the story, a hero will be forgotten. By the end of the story, a hero will be reborn. By the end of the story, a hero will be reborn. The End of the Story\n",
      "\n",
      "But in the end, I will still be a hero. I will still be an old man. I will still be at peace. And I will still be the hero I really am.\n",
      "\n",
      "Now, I want to share the story of the man who finally overcame his past and is now an old man. I want to tell the story of the man who was overcome by his past, and his future, and his future and his future and his future, and he is no longer a hero. That is the story of a man who overcame his past, and his future, and his future, and his future, and his future, and his future, and his future, and his future, and his future, and his future, and his future, and his future, and his future, and his future, and his future, and his future, and his future, and his future, and his future, and his future, and his future, and his future, and his future, and his future, and his future, and his future, and her future, and its future, and its future, and its future, and its future, and its future, and its future, and its future, and its future, and its future, and its future, and its future, and its future, and its future, and its future, and its future, and its future, and its future, and its future, and its future, and its future, and its future, and its future, and its future, and its future, and its future, and its future, and its future, and its future, and its future, and its future, and its future, and its future, and its future, and its future, and its future, and its future, and its future, and its future, and its future, and its future, and its\n"
     ]
    },
    {
     "name": "stderr",
     "output_type": "stream",
     "text": [
      "\n"
     ]
    }
   ],
   "source": [
    "text_generator(state_dict, text, nsamples=3)"
   ]
  },
  {
   "cell_type": "markdown",
   "metadata": {},
   "source": [
    "## Task 4: Control the length of generated completion\n",
    "\n",
    "You can also control how long text samples the method generates. The default length is 512 words, and the longest limiation is 1024 words."
   ]
  },
  {
   "cell_type": "code",
   "execution_count": 29,
   "metadata": {},
   "outputs": [
    {
     "name": "stderr",
     "output_type": "stream",
     "text": [
      "  0%|          | 1/300 [00:00<00:44,  6.74it/s]"
     ]
    },
    {
     "name": "stdout",
     "output_type": "stream",
     "text": [
      "Once when I was six years old I saw a magnificent picture in a book, called True Stories from Nature, about the primeval forest.\n"
     ]
    },
    {
     "name": "stderr",
     "output_type": "stream",
     "text": [
      "100%|██████████| 300/300 [00:12<00:00, 23.35it/s]"
     ]
    },
    {
     "name": "stdout",
     "output_type": "stream",
     "text": [
      "======================================== SAMPLE 1 ========================================\n",
      " It was painted by the beautiful, beautiful, beautiful girl who lived there, and it was a beautiful picture, and it was beautiful. And then I was so close to it that I couldn't see it. And I thought, 'Oh, what a beautiful picture. I thought, 'Oh, oh, this is beautiful, this is beautiful.' And I said to myself, 'Well, that's my own picture. This is what I want, this is what I want.' And I never would have wanted to be photographed like that. For me, it was a very interesting picture, because it was a picture of a forest, and it really was.\n",
      "\n",
      "JULIA: That's a good question.\n",
      "\n",
      "MARSHALL: Yeah, and it's a very interesting picture. They put it on a book, and I said, \"Do you want to be photographed in this? Do you want to be photographed in this? Do you want to be photographed in this? Do you want to be photographed in this?\" And they really wanted to take my picture. And in this I went through all the different phases of it, and they really wanted to capture my body in it, and I just did not want to be photographed that way. And then I said to them, \"Oh, no, I want to be photographed in this. I want to be photographed in this.\" And they just said, \"No, you can't. You can't. You have\n"
     ]
    },
    {
     "name": "stderr",
     "output_type": "stream",
     "text": [
      "\n"
     ]
    }
   ],
   "source": [
    "text_generator(state_dict, text, length=300)"
   ]
  },
  {
   "cell_type": "markdown",
   "metadata": {},
   "source": [
    "## Task 5: Modify model parameters\n",
    "\n",
    "The model has additional parameters that you can control. The default 'temperature' parameter has value `temperature=0.7`. Play around with the model by modifying this parameter. What happens when you change the value to, e.g., 0.5 or 0.9? The variable `text` holds the example input you have in Task 4. Feel free to change it when you explore."
   ]
  },
  {
   "cell_type": "code",
   "execution_count": 18,
   "metadata": {},
   "outputs": [
    {
     "name": "stderr",
     "output_type": "stream",
     "text": [
      "  0%|          | 2/900 [00:00<00:56, 15.99it/s]"
     ]
    },
    {
     "name": "stdout",
     "output_type": "stream",
     "text": [
      "There once lived a great king. He has become the hero of his people\n"
     ]
    },
    {
     "name": "stderr",
     "output_type": "stream",
     "text": [
      "100%|██████████| 900/900 [00:42<00:00, 21.03it/s]"
     ]
    },
    {
     "name": "stdout",
     "output_type": "stream",
     "text": [
      "======================================== SAMPLE 1 ========================================\n",
      ".\"\n",
      "\n",
      "—Neko\n",
      "\n",
      "\"It seems that all those who say the gods who built the world are wrong are just trying their best not to offend the gods when they tell the truth. I have yet to find evidence that I know what they think. I have seen what they think they know, and I have seen what they fear. I have heard the word of the LORD his God, and yet I never believe in it, as I have come to know about you. The LORD says, 'Thy people are wicked, and thy daughters are children of drunkenness, and thy children are murderers, and thy daughters betray their fathers.' And they spake unto him, saying, Thou art the Son of God, and the Son of man, and the Son of woman. And he said, Look, the Son of God is God-like unto all people. Why do you say this? Why do you ask questions?\"\n",
      "\n",
      "—Neko\n",
      "\n",
      "\"He has no right to inquire whether the Lord my God or my beloved wife is a prophet. His law is my law, and he has no right to ask any question of my wife about my husband's affairs. I have asked him about the sons of Adam, about his brother, and about the daughters of the prophets I have heard. My daughter has asked him about my sons. Why did he not tell her about my sons when I wrote to him the Bible? And he asked her about my daughters. I have asked him about the prophets, about the sons of Abraham. Why did he not tell my wives? Why did I not tell my maidservants? Why did I not tell the women who had the children of the fathers of the prophets, about the daughters of the prophets, about the daughters of Israel? Why was he not allowed to ask any questions in the name of the LORD his God, and to ask to me, my dear wife, when I had written my book?\"\n",
      "\n",
      "—Neko\n",
      "\n",
      "\"The Lord thy God has spoken to me; but now I hear and know, and we will ask him,\n",
      "\n",
      "and he will not answer us, for he will not answer, for he will not answer.\n",
      "\n",
      "Then the LORD said unto me. I have spoken to thee in vain, for it is written, Ye who fear the LORD thy God, will not die.<|endoftext|>The National Association of Medical Colleges & Universities (NAMBLU) released its latest annual report for 2018. (Photo: David McNew/AP)\n",
      "\n",
      "The National Association of Medical Colleges & Universities (NAMBLU) released its latest annual report for 2018.\n",
      "\n",
      "NAMBLU compiled statistics to better measure outcomes for its 15 hospitals, including two that had higher than 5,000 enrollees and eight that had less than 5,000 enrollees.\n",
      "\n",
      "A total of 15 of the 19 hospitals had fewer than 4,000 enrollees for their 2018 enrollees. Of those hospital systems, 10 have more than 5,000 enrollees and 17 have less than 5,000 enrollees.\n",
      "\n",
      "Overall, 12 of the hospitals had more than 5,000 enrollees with 1,000 enrollees for their 2018 enrollees. Other hospitals in the database include the North Shore Medical Center, the West Shore Medical Center, the West Shore Medical Center, the North Shore Medical Center and the North Shore Medical Center.\n",
      "\n",
      "More on the hospitals\n",
      "\n",
      "The NAMBLU also released the latest year-end figures for hospitals participating in the new Kaiser Family Foundation Health Care for People with Disabilities (KFFI) Affordable Care Act Program, which is expected to see enrollment rise 5 percent to 10.9 million people in 2018.\n",
      "\n",
      "KFFI has been the primary source of funding for Kaiser's Medicare Advantage program since 2011. Kaiser Health is also expected to be the primary source of funding for the Children's Health Insurance Program (CHIP) for 2018.\n",
      "\n",
      "Kaiser has been a major player in expanding health insurance coverage for some of the nation's poorest young people over the last decade, helping them obtain insurance through public exchanges, including the Affordable Care Act.\n",
      "\n",
      "The report, which is based on the NAMBLU Annual Review of New Hospitals, also focused upon the ACA's ability to support care for younger adults and disabled patients.\n",
      "\n",
      "The report compared the rates of enrollment for enrollees with 1\n"
     ]
    },
    {
     "name": "stderr",
     "output_type": "stream",
     "text": [
      "\n"
     ]
    }
   ],
   "source": [
    "text_generator(state_dict, text, length=900, temperature=0.9)"
   ]
  },
  {
   "cell_type": "markdown",
   "metadata": {},
   "source": [
    "## Task 6: Play around with the model\n",
    "\n",
    "Now your task is to explore further and try out various things. Make the model\n",
    "* write a list of things to take with you to Mars (e.g., *'If I ever travel to Mars, I would take with me the following items.'*)\n",
    "* write a bed time story for children (e.g., *'It was a dark and stormy night...'*)\n",
    "* write a news story about the Corona virus pandemic\n",
    "* write you the course essay for this course\n",
    "\n",
    "Feel free to be creative and try out other things that cross your mind. Remember that running the model several times will produce different samples."
   ]
  },
  {
   "cell_type": "code",
   "execution_count": 17,
   "metadata": {},
   "outputs": [
    {
     "ename": "SyntaxError",
     "evalue": "invalid syntax (<ipython-input-17-a9f5311ffe2e>, line 1)",
     "output_type": "error",
     "traceback": [
      "\u001b[0;36m  File \u001b[0;32m\"<ipython-input-17-a9f5311ffe2e>\"\u001b[0;36m, line \u001b[0;32m1\u001b[0m\n\u001b[0;31m    Dustin Bates from Starset Society is a talented musician, an electrician and a former Air Force soldier. He has a PHD in electrical engineering and has worked in projects in the Air Force for the US army. After that, he created a solo music project called MNQN. He went on to form 2 bands: Downplay and Starset respectively.\u001b[0m\n\u001b[0m           ^\u001b[0m\n\u001b[0;31mSyntaxError\u001b[0m\u001b[0;31m:\u001b[0m invalid syntax\n"
     ]
    }
   ],
   "source": [
    "Dustin Bates from Starset Society is a talented musician, an electrician and a former Air Force soldier. He has a PHD in electrical engineering and has worked in projects in the Air Force for the US army. After that, he created a solo music project called MNQN. He went on to form 2 bands: Downplay and Starset respectively.\n"
   ]
  },
  {
   "cell_type": "code",
   "execution_count": 18,
   "metadata": {},
   "outputs": [
    {
     "data": {
      "text/plain": [
       "' Dustin Bates from Starset Society is a talented musician, an electrician and a former Air Force soldier. He has a PHD in electrical engineering and has worked in projects in the Air Force for the US army. After that, he created a solo music project called MNQN. He went on to form 2 bands: Downplay and Starset respectively.'"
      ]
     },
     "execution_count": 18,
     "metadata": {},
     "output_type": "execute_result"
    }
   ],
   "source": [
    "' Dustin Bates from Starset Society is a talented musician, an electrician and a former Air Force soldier. He has a PHD in electrical engineering and has worked in projects in the Air Force for the US army. After that, he created a solo music project called MNQN. He went on to form 2 bands: Downplay and Starset respectively.'"
   ]
  },
  {
   "cell_type": "code",
   "execution_count": 19,
   "metadata": {},
   "outputs": [
    {
     "data": {
      "text/plain": [
       "' Dustin Bates from Starset Society is a talented musician, an electrician and a former Air Force soldier. He has a PHD in electrical engineering and has worked in projects in the Air Force for the US army. After that, he created a solo music project called MNQN. He went on to form 2 bands: Downplay and Starset respectively.'"
      ]
     },
     "execution_count": 19,
     "metadata": {},
     "output_type": "execute_result"
    }
   ],
   "source": [
    "' Dustin Bates from Starset Society is a talented musician, an electrician and a former Air Force soldier. He has a PHD in electrical engineering and has worked in projects in the Air Force for the US army. After that, he created a solo music project called MNQN. He went on to form 2 bands: Downplay and Starset respectively.'"
   ]
  },
  {
   "cell_type": "code",
   "execution_count": 20,
   "metadata": {},
   "outputs": [
    {
     "data": {
      "text/plain": [
       "' Dustin Bates from Starset Society is a talented musician, an electrician and a former Air Force soldier. He has a PHD in electrical engineering and has worked in projects in the Air Force for the US army. After that, he created a solo music project called MNQN. He went on to form 2 bands: Downplay and Starset respectively.'"
      ]
     },
     "execution_count": 20,
     "metadata": {},
     "output_type": "execute_result"
    }
   ],
   "source": [
    "' Dustin Bates from Starset Society is a talented musician, an electrician and a former Air Force soldier. He has a PHD in electrical engineering and has worked in projects in the Air Force for the US army. After that, he created a solo music project called MNQN. He went on to form 2 bands: Downplay and Starset respectively.'"
   ]
  },
  {
   "cell_type": "code",
   "execution_count": 21,
   "metadata": {},
   "outputs": [
    {
     "name": "stderr",
     "output_type": "stream",
     "text": [
      "\r",
      "  0%|          | 0/512 [00:00<?, ?it/s]"
     ]
    },
    {
     "name": "stdout",
     "output_type": "stream",
     "text": [
      " Dustin Bates from Starset Society is a talented musician, an electrician and a former Air Force soldier. He has a PHD in electrical engineering and has worked in projects in the Air Force for the US army. After that, he created a solo music project called MNQN. He went on to form 2 bands: Downplay and Starset respectively.\n"
     ]
    },
    {
     "name": "stderr",
     "output_type": "stream",
     "text": [
      "100%|██████████| 512/512 [00:25<00:00, 20.14it/s]"
     ]
    },
    {
     "name": "stdout",
     "output_type": "stream",
     "text": [
      "======================================== SAMPLE 1 ========================================\n",
      " He is also a frequent collaborator on various projects such as \"The Big O\", \"Girlfriends\", \"The New Generation\", \"The Best of the Best\" and \"The Girlfriend Story.\" He was on the board of directors of The Boston Red Sox when we were first introduced to him.\n",
      "\n",
      "C: How far do you go to get your musical ideas and ideas for your own projects?\n",
      "\n",
      "F: I do not think all you have to do to get your ideas off the ground is to put together a single thing. There are a lot of people who have done it that have their own ideas. The most common is someone who is in their late 80s or early 90's or early 2000's, and they have been working for a long time and they have a lot of things going on in their life that are going to change their life. I will say this: I love music. I love the feeling of music. I love the feeling of being in the studio with your music. Music can feel like the only thing that exists in your head. I have found that. I have found that the only thing that exists in my head is the idea that it has to be there. It has to be there in your brain. It has to be there in your mind. I love it when people take that idea and work it into their own vision of what it is they want to be.\n",
      "\n",
      "C: What's your favorite song from your music that you've heard?\n",
      "\n",
      "F: I have always loved my favorite song. I love that song so much. It's such a personal feeling that I have to keep in mind. I'm not the only one to love that song. I love my brother, my sister, my friends and my brother's wife. I love that song so much. I have such a favorite brother, my sister, my friend and my wife. And I love my brother's wife too.\n",
      "\n",
      "C: What's your favorite song that you've heard from your music?\n",
      "\n",
      "F: I would say \"Sweet Sixteen\" by the way. I like that song. It's so good. I like that song too. I like that song so much. I love that song so much. It just adds to my memory for when I was younger and my kids were growing up.\n",
      "\n",
      "C: How do you feel about the idea that a single song can affect your music?\n",
      "\n",
      "F: Honestly, I don't know. I don't know if\n"
     ]
    },
    {
     "name": "stderr",
     "output_type": "stream",
     "text": [
      "\n"
     ]
    }
   ],
   "source": [
    "text = ' Dustin Bates from Starset Society is a talented musician, an electrician and a former Air Force soldier. He has a PHD in electrical engineering and has worked in projects in the Air Force for the US army. After that, he created a solo music project called MNQN. He went on to form 2 bands: Downplay and Starset respectively.'\n",
    "\n",
    "text_generator(state_dict, text)"
   ]
  },
  {
   "cell_type": "code",
   "execution_count": 31,
   "metadata": {},
   "outputs": [
    {
     "name": "stderr",
     "output_type": "stream",
     "text": [
      "\r",
      "  0%|          | 0/512 [00:00<?, ?it/s]"
     ]
    },
    {
     "name": "stdout",
     "output_type": "stream",
     "text": [
      " Dustin Bates from Starset Society is a talented musician, an electrician and a former Air Force soldier. He has a PHD in electrical engineering and has worked in projects in the Air Force for the US army. After that, he created a solo music project called MNQN. He went on to form 2 bands: Downplay and Starset respectively.\n"
     ]
    },
    {
     "name": "stderr",
     "output_type": "stream",
     "text": [
      "100%|██████████| 512/512 [00:23<00:00, 22.19it/s]"
     ]
    },
    {
     "name": "stdout",
     "output_type": "stream",
     "text": [
      "======================================== SAMPLE 1 ========================================\n",
      " He has collaborated with many different musicians, and currently works as a consultant for the studio scene of indie rock and indie rock.\n",
      "\n",
      "Follow @derekpaulson\n",
      "\n",
      "Follow @DerekPaulsonMusic<|endoftext|>From Hearthstone Wiki\n",
      "\n",
      "Chromie's Fervor is an epic neutral minion card, from the Classic set.\n",
      "\n",
      "How to get [ edit | edit source ]\n",
      "\n",
      "Chromie's Fervor can be obtained through Classic card packs, through crafting, or as an Arena reward. Golden Chromie's Fervor can also be obtained through the Highest Rank Bonus chest at the end of each Ranked season.\n",
      "\n",
      "Card Crafting cost Disenchanting Chromie's Fervor 40 5 Golden Chromie's Fervor 40 5\n",
      "\n",
      "This card is a great minion to play against, as it allows you to use your minions to deal damage to your opponent, as well as being a great way to get some early kills. It also seems like it has great synergy with the Bloodfen Raptor, which is a good card to use against, as it can deal with the Bloodfen Raptor on turn 2, and thus allows you to deal with the Bloodfen Raptor on turn 3. If you can't kill it, you can clear it with a single strike.\n",
      "\n",
      "The card also gives you 2 damage per turn, which is a great way to get some late game.\n",
      "\n",
      "Attack is a great way to deal with these cards, as you can use their damage on turn 2 to deal with a minion or board of attack, and you can even kill your opponent from behind when you don't have any minions to cast it.\n",
      "\n",
      "The card's main drawback is that it can be a bit difficult to deal with as it will be able to get through to a minion for half of its cost. You could also use it to kill your opponent's board of attack, and then kill it with a single strike.\n",
      "\n",
      "The card's main weakness is the fact that it doesn't do anything on the same turn it destroys a minion. This makes it hard to deal with as its speed can cause it to be able to kill your opponent quickly when you have minions to cast it, and it can't get through to a board of attack.\n",
      "\n",
      "In some cases, it can be useful as a counter to removal such as the Bloodfen Raptor, which can be a good way to get the kill.\n",
      "\n",
      "The card's weakness is its lack of any clear\n"
     ]
    },
    {
     "name": "stderr",
     "output_type": "stream",
     "text": [
      "\n"
     ]
    }
   ],
   "source": [
    "text = ' Dustin Bates from Starset Society is a talented musician, an electrician and a former Air Force soldier. He has a PHD in electrical engineering and has worked in projects in the Air Force for the US army. After that, he created a solo music project called MNQN. He went on to form 2 bands: Downplay and Starset respectively.'\n",
    "\n",
    "text_generator(state_dict, text)"
   ]
  },
  {
   "cell_type": "code",
   "execution_count": null,
   "metadata": {},
   "outputs": [],
   "source": []
  }
 ],
 "metadata": {
  "kernelspec": {
   "display_name": "Python 3",
   "language": "python",
   "name": "python3"
  },
  "language_info": {
   "codemirror_mode": {
    "name": "ipython",
    "version": 3
   },
   "file_extension": ".py",
   "mimetype": "text/x-python",
   "name": "python",
   "nbconvert_exporter": "python",
   "pygments_lexer": "ipython3",
   "version": "3.8.6"
  },
  "varInspector": {
   "cols": {
    "lenName": 16,
    "lenType": 16,
    "lenVar": 40
   },
   "kernels_config": {
    "python": {
     "delete_cmd_postfix": "",
     "delete_cmd_prefix": "del ",
     "library": "var_list.py",
     "varRefreshCmd": "print(var_dic_list())"
    },
    "r": {
     "delete_cmd_postfix": ") ",
     "delete_cmd_prefix": "rm(",
     "library": "var_list.r",
     "varRefreshCmd": "cat(var_dic_list()) "
    }
   },
   "types_to_exclude": [
    "module",
    "function",
    "builtin_function_or_method",
    "instance",
    "_Feature"
   ],
   "window_display": false
  }
 },
 "nbformat": 4,
 "nbformat_minor": 2
}
